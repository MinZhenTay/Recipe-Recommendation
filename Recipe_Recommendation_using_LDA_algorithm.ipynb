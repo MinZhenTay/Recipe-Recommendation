{
  "cells": [
    {
      "cell_type": "markdown",
      "metadata": {
        "id": "view-in-github",
        "colab_type": "text"
      },
      "source": [
        "<a href=\"https://colab.research.google.com/github/MinZhenTay/Recipe-Recommendation/blob/main/Recipe_Recommendation_using_LDA_algorithm.ipynb\" target=\"_parent\"><img src=\"https://colab.research.google.com/assets/colab-badge.svg\" alt=\"Open In Colab\"/></a>"
      ]
    },
    {
      "cell_type": "markdown",
      "metadata": {
        "id": "sehlOSJ-AsS4"
      },
      "source": [
        "## **Recipe Recommendation System using LDA Algorithm**"
      ]
    },
    {
      "cell_type": "code",
      "execution_count": 1,
      "metadata": {
        "id": "fwmAuIgfWpGC"
      },
      "outputs": [],
      "source": [
        "# Import necessary libraries\n",
        "import pandas as pd\n",
        "import numpy as np\n",
        "import re\n",
        "import spacy"
      ]
    },
    {
      "cell_type": "code",
      "execution_count": 2,
      "metadata": {
        "id": "lUbx1-Qjx8w9"
      },
      "outputs": [],
      "source": [
        "# Upload the Dataset\n",
        "recipes = pd.read_csv('/Users/60197/Desktop/Research Project/FinalRecipeData.csv')"
      ]
    },
    {
      "cell_type": "code",
      "execution_count": 3,
      "metadata": {
        "colab": {
          "base_uri": "https://localhost:8080/",
          "height": 206
        },
        "id": "hrYczE7nyLNs",
        "outputId": "795837dd-943c-4025-b84d-3e7424ee70a8"
      },
      "outputs": [
        {
          "output_type": "execute_result",
          "data": {
            "text/plain": [
              "   Unnamed: 0                           recipe_name  \\\n",
              "0           0        air fried raspberry brie bites   \n",
              "1           1  spicy chicken jerky in the air fryer   \n",
              "2           2    air fryer scrambled eggs on the go   \n",
              "3           3              basic air fryer hot dogs   \n",
              "4           4               air fryer potato wedges   \n",
              "\n",
              "                                         ingredients  \\\n",
              "0  ['1 (8 ounce) round brie cheese', '1 (8 ounce)...   \n",
              "1  ['2 (5 ounce) boneless chicken breasts, cut in...   \n",
              "2  ['  cooking spray', '2 large eggs, beaten', ' ...   \n",
              "3                 ['4  hot dog buns', '4  hot dogs']   \n",
              "4  ['2 medium russet potatoes', '1 ½ tablespoons ...   \n",
              "\n",
              "                                  cooking_directions  \\\n",
              "0  ['\\nslice the brie into squares about ½ inch t...   \n",
              "1  ['\\ncombine chicken strips, marinade, and caju...   \n",
              "2  ['\\nlightly spray a ramekin dish with non-stic...   \n",
              "3  ['\\npreheat an air fryer to 400 degrees f (200...   \n",
              "4  ['\\npreheat an air fryer to 400 degrees f (200...   \n",
              "\n",
              "                                          nutritions  \n",
              "0  [{'calories': '252'}, {'fat': '16g '}, {'carbs...  \n",
              "1  [{'calories': '54'}, {'fat': '1g '}, {'carbs':...  \n",
              "2  [{'calories': '143'}, {'fat': '10g '}, {'carbs...  \n",
              "3  [{'calories': '269'}, {'fat': '15g '}, {'carbs...  \n",
              "4  [{'calories': '129'}, {'fat': '5g '}, {'carbs'...  "
            ],
            "text/html": [
              "<div>\n",
              "<style scoped>\n",
              "    .dataframe tbody tr th:only-of-type {\n",
              "        vertical-align: middle;\n",
              "    }\n",
              "\n",
              "    .dataframe tbody tr th {\n",
              "        vertical-align: top;\n",
              "    }\n",
              "\n",
              "    .dataframe thead th {\n",
              "        text-align: right;\n",
              "    }\n",
              "</style>\n",
              "<table border=\"1\" class=\"dataframe\">\n",
              "  <thead>\n",
              "    <tr style=\"text-align: right;\">\n",
              "      <th></th>\n",
              "      <th>Unnamed: 0</th>\n",
              "      <th>recipe_name</th>\n",
              "      <th>ingredients</th>\n",
              "      <th>cooking_directions</th>\n",
              "      <th>nutritions</th>\n",
              "    </tr>\n",
              "  </thead>\n",
              "  <tbody>\n",
              "    <tr>\n",
              "      <th>0</th>\n",
              "      <td>0</td>\n",
              "      <td>air fried raspberry brie bites</td>\n",
              "      <td>['1 (8 ounce) round brie cheese', '1 (8 ounce)...</td>\n",
              "      <td>['\\nslice the brie into squares about ½ inch t...</td>\n",
              "      <td>[{'calories': '252'}, {'fat': '16g '}, {'carbs...</td>\n",
              "    </tr>\n",
              "    <tr>\n",
              "      <th>1</th>\n",
              "      <td>1</td>\n",
              "      <td>spicy chicken jerky in the air fryer</td>\n",
              "      <td>['2 (5 ounce) boneless chicken breasts, cut in...</td>\n",
              "      <td>['\\ncombine chicken strips, marinade, and caju...</td>\n",
              "      <td>[{'calories': '54'}, {'fat': '1g '}, {'carbs':...</td>\n",
              "    </tr>\n",
              "    <tr>\n",
              "      <th>2</th>\n",
              "      <td>2</td>\n",
              "      <td>air fryer scrambled eggs on the go</td>\n",
              "      <td>['  cooking spray', '2 large eggs, beaten', ' ...</td>\n",
              "      <td>['\\nlightly spray a ramekin dish with non-stic...</td>\n",
              "      <td>[{'calories': '143'}, {'fat': '10g '}, {'carbs...</td>\n",
              "    </tr>\n",
              "    <tr>\n",
              "      <th>3</th>\n",
              "      <td>3</td>\n",
              "      <td>basic air fryer hot dogs</td>\n",
              "      <td>['4  hot dog buns', '4  hot dogs']</td>\n",
              "      <td>['\\npreheat an air fryer to 400 degrees f (200...</td>\n",
              "      <td>[{'calories': '269'}, {'fat': '15g '}, {'carbs...</td>\n",
              "    </tr>\n",
              "    <tr>\n",
              "      <th>4</th>\n",
              "      <td>4</td>\n",
              "      <td>air fryer potato wedges</td>\n",
              "      <td>['2 medium russet potatoes', '1 ½ tablespoons ...</td>\n",
              "      <td>['\\npreheat an air fryer to 400 degrees f (200...</td>\n",
              "      <td>[{'calories': '129'}, {'fat': '5g '}, {'carbs'...</td>\n",
              "    </tr>\n",
              "  </tbody>\n",
              "</table>\n",
              "</div>"
            ]
          },
          "metadata": {},
          "execution_count": 3
        }
      ],
      "source": [
        "recipes.head()"
      ]
    },
    {
      "cell_type": "code",
      "execution_count": 4,
      "metadata": {
        "colab": {
          "base_uri": "https://localhost:8080/"
        },
        "id": "rL3mge62s9eo",
        "outputId": "32839b99-1c2a-479f-ef19-345e47229c4a"
      },
      "outputs": [
        {
          "output_type": "stream",
          "name": "stdout",
          "text": [
            "Unnamed: 0            0\n",
            "recipe_name           0\n",
            "ingredients           0\n",
            "cooking_directions    0\n",
            "nutritions            0\n",
            "dtype: int64\n"
          ]
        }
      ],
      "source": [
        "# Check if there is any missing value\n",
        "missing_values = recipes.isnull().sum()\n",
        "print(missing_values)"
      ]
    },
    {
      "cell_type": "code",
      "execution_count": 5,
      "metadata": {
        "colab": {
          "base_uri": "https://localhost:8080/"
        },
        "id": "bN12jU5raJGA",
        "outputId": "4aa294fa-c7e2-4378-aeae-2e0ffc7ce8b9"
      },
      "outputs": [
        {
          "output_type": "stream",
          "name": "stderr",
          "text": [
            "[nltk_data] Downloading package stopwords to\n",
            "[nltk_data]     C:\\Users\\60197\\AppData\\Roaming\\nltk_data...\n",
            "[nltk_data]   Package stopwords is already up-to-date!\n"
          ]
        },
        {
          "output_type": "execute_result",
          "data": {
            "text/plain": [
              "True"
            ]
          },
          "metadata": {},
          "execution_count": 5
        }
      ],
      "source": [
        "import nltk\n",
        "nltk.download('stopwords')"
      ]
    },
    {
      "cell_type": "code",
      "execution_count": 6,
      "metadata": {
        "id": "qiI-2f5Ss9ep"
      },
      "outputs": [],
      "source": [
        "# Remove stopwords\n",
        "import nltk\n",
        "from nltk.corpus import stopwords\n",
        "from nltk.tokenize import word_tokenize\n",
        "stop_words = set(stopwords.words('english'))"
      ]
    },
    {
      "cell_type": "code",
      "execution_count": 7,
      "metadata": {
        "id": "KUwNomq6by-s",
        "colab": {
          "base_uri": "https://localhost:8080/"
        },
        "outputId": "3cb39e3c-545d-4efb-b717-56430f91f062"
      },
      "outputs": [
        {
          "output_type": "stream",
          "name": "stderr",
          "text": [
            "C:\\Users\\60197\\AppData\\Local\\Temp/ipykernel_14796/544913623.py:4: FutureWarning: The default value of regex will change from True to False in a future version.\n",
            "  recipes['ingredients'] = recipes['ingredients'].str.replace(r'[¼½⅓]','')\n",
            "C:\\Users\\60197\\AppData\\Local\\Temp/ipykernel_14796/544913623.py:5: FutureWarning: The default value of regex will change from True to False in a future version. In addition, single character regular expressions will *not* be treated as literal strings when regex=True.\n",
            "  recipes['ingredients'] = recipes['ingredients'].str.replace(r'^','')\n"
          ]
        }
      ],
      "source": [
        "# Preprocess data in the 'ingredients' column\n",
        "recipes['ingredients'] = recipes['ingredients'].str.lower()\n",
        "recipes['ingredients'] = recipes['ingredients'].str.replace('cup','')\n",
        "recipes['ingredients'] = recipes['ingredients'].str.replace(r'[¼½⅓]','')\n",
        "recipes['ingredients'] = recipes['ingredients'].str.replace(r'^','')"
      ]
    },
    {
      "cell_type": "code",
      "source": [
        "recipes['ingredients']"
      ],
      "metadata": {
        "colab": {
          "base_uri": "https://localhost:8080/"
        },
        "id": "pgL--_FEjnFp",
        "outputId": "b7b792d4-ab4c-4bdf-d11d-6b2815035af9"
      },
      "execution_count": 8,
      "outputs": [
        {
          "output_type": "execute_result",
          "data": {
            "text/plain": [
              "0        ['1 (8 ounce) round brie cheese', '1 (8 ounce)...\n",
              "1        ['2 (5 ounce) boneless chicken breasts, cut in...\n",
              "2        ['  cooking spray', '2 large eggs, beaten', ' ...\n",
              "3                       ['4  hot dog buns', '4  hot dogs']\n",
              "4        ['2 medium russet potatoes', '1  tablespoons o...\n",
              "                               ...                        \n",
              "49538    green bell pepperred bell pepperonioncelerylar...\n",
              "49539    olive oilgarliclarge onionlarge green bell pep...\n",
              "49540    sliced peaches drainedscoops vanilla ice cream...\n",
              "49541    butterhabanero peppersfresh peachesbrown sugar...\n",
              "49542    olive oilbulb garlictomatoes choppeddiced toma...\n",
              "Name: ingredients, Length: 49543, dtype: object"
            ]
          },
          "metadata": {},
          "execution_count": 8
        }
      ]
    },
    {
      "cell_type": "code",
      "execution_count": 9,
      "metadata": {
        "colab": {
          "base_uri": "https://localhost:8080/"
        },
        "id": "WOMcSmWzc268",
        "outputId": "a7b82b6c-cd88-4f9a-c1ba-1c08ae5ee28e"
      },
      "outputs": [
        {
          "output_type": "execute_result",
          "data": {
            "text/plain": [
              "\"air fried raspberry brie bites ['1 (8 ounce) round brie cheese', '1 (8 ounce) package phyllo dough, thawed', '1  raspberry jam', '1  butter, melted', '2 tablespoons honey', '  flakey salt to taste'] ['\\\\nslice the brie into squares about ½ inch thick and 1 to 1 ½ inches wide.\\\\n', '\\\\nroll out 1 sheet of phyllo dough vertically on a large work surface. brush the bottom half of the dough with melted butter, then fold the top half over onto itself.\\\\n', '\\\\nplace 1 piece of cheese in the bottom center of the dough, about 2 inches from the edges. spoon about 2 teaspoons raspberry jam onto the cheese. brush melted butter around the rest of the dough.\\\\n', '\\\\nfold in the bottom 2 inches of dough over the cheese, then fold in both sides. brush more butter onto the remaining dough, then carefully roll the filling upwards until it is wrapped fully. brush more butter on top and set into the air fryer try.\\\\n', '\\\\nset air fryer to 375 degrees f (190 degrees c).\\\\n', '\\\\nair fry in batches to avoid overcrowding until golden-brown, 4 to 5 minutes. garnish with a thin drizzle of honey and a pinch of flakey salt. serve immediately.\\\\n']\""
            ]
          },
          "metadata": {},
          "execution_count": 9
        }
      ],
      "source": [
        "# Join text for 'recipe_name', 'cooking_directions' & 'ingredients'\n",
        "all_text = recipes['recipe_name'] + ' ' + recipes['ingredients'] + ' ' + recipes['cooking_directions']\n",
        "all_text[0]"
      ]
    },
    {
      "cell_type": "code",
      "execution_count": 10,
      "metadata": {
        "id": "r_ABtZZEgsDB"
      },
      "outputs": [],
      "source": [
        "# Apply clean_text function\n",
        "import string\n",
        "import re\n",
        "\n",
        "def clean_text(documents):\n",
        "    cleaned_text = []\n",
        "    for doc in documents:\n",
        "        doc = doc.translate(str.maketrans('', '', string.punctuation)) # Remove punctuation\n",
        "        doc = re.sub(r'\\d+', '', doc) # Remove digits\n",
        "        doc = doc.replace('\\n',' ') # Remove new lines\n",
        "        doc = doc.strip() # Remove leading white space\n",
        "        doc = re.sub(' +', ' ', doc) # Remove multiple white spaces\n",
        "        cleaned_text.append(doc)\n",
        "    return cleaned_text\n",
        "\n",
        "# Clean the text\n",
        "cleaned_text = clean_text(all_text)"
      ]
    },
    {
      "cell_type": "code",
      "execution_count": 11,
      "metadata": {
        "colab": {
          "base_uri": "https://localhost:8080/"
        },
        "id": "RvcME4nqgzm0",
        "outputId": "727a05b8-bf96-40c1-b2a7-bd6e13491941"
      },
      "outputs": [
        {
          "output_type": "execute_result",
          "data": {
            "text/plain": [
              "'air fryer scrambled eggs on the go cooking spray large eggs beaten salt and freshly ground black pepper to taste nlightly spray a ramekin dish with nonstick cooking spray pour in beaten eggsn nset air fryer to degrees f degrees c and place the ramekin into the air fryer basketn nair fry for minutes stir egg mixture and cook for minutes more fluff with a fork and season to taste with salt and pepper grab and gon'"
            ]
          },
          "metadata": {},
          "execution_count": 11
        }
      ],
      "source": [
        "cleaned_text[2]"
      ]
    },
    {
      "cell_type": "code",
      "execution_count": 12,
      "metadata": {
        "id": "4yDhQOab0OqK"
      },
      "outputs": [],
      "source": [
        "import gensim\n",
        "from gensim.utils import simple_preprocess\n",
        "from gensim.parsing.preprocessing import STOPWORDS\n",
        "from nltk.stem import WordNetLemmatizer, SnowballStemmer\n",
        "from nltk.stem.porter import *\n",
        "import numpy as np"
      ]
    },
    {
      "cell_type": "code",
      "execution_count": 13,
      "metadata": {
        "id": "GQoktUG80U1E"
      },
      "outputs": [],
      "source": [
        "# Apply stopwords removal & word lemmatization\n",
        "def lemmatize_stemming(text):\n",
        "    stemmer = SnowballStemmer(\"english\")\n",
        "    return stemmer.stem(WordNetLemmatizer().lemmatize(text, pos='v'))\n",
        "\n",
        "def preprocess(text):\n",
        "    result=[]\n",
        "    for token in gensim.utils.simple_preprocess(text) :\n",
        "        if token not in gensim.parsing.preprocessing.STOPWORDS and len(token) > 3:\n",
        "            result.append(lemmatize_stemming(token))\n",
        "            \n",
        "    return result"
      ]
    },
    {
      "cell_type": "code",
      "execution_count": 14,
      "metadata": {
        "colab": {
          "base_uri": "https://localhost:8080/"
        },
        "id": "pSxjNwgc1BNk",
        "outputId": "cc96353b-2558-4855-a4d8-cf0b8e520fa6"
      },
      "outputs": [
        {
          "output_type": "stream",
          "name": "stderr",
          "text": [
            "[nltk_data] Downloading package wordnet to\n",
            "[nltk_data]     C:\\Users\\60197\\AppData\\Roaming\\nltk_data...\n",
            "[nltk_data]   Package wordnet is already up-to-date!\n",
            "[nltk_data] Downloading package omw-1.4 to\n",
            "[nltk_data]     C:\\Users\\60197\\AppData\\Roaming\\nltk_data...\n",
            "[nltk_data]   Package omw-1.4 is already up-to-date!\n"
          ]
        },
        {
          "output_type": "execute_result",
          "data": {
            "text/plain": [
              "True"
            ]
          },
          "metadata": {},
          "execution_count": 14
        }
      ],
      "source": [
        "import nltk\n",
        "nltk.download('wordnet')\n",
        "nltk.download('omw-1.4')"
      ]
    },
    {
      "cell_type": "code",
      "execution_count": 15,
      "metadata": {
        "id": "pkoFhz_z0bPK"
      },
      "outputs": [],
      "source": [
        "processed_text = [preprocess(text) for text in cleaned_text]"
      ]
    },
    {
      "cell_type": "code",
      "execution_count": 16,
      "metadata": {
        "colab": {
          "base_uri": "https://localhost:8080/"
        },
        "id": "cjJ6OLGXMaAQ",
        "outputId": "8da3ecbf-c607-426b-d3ef-c7e9fbd5bee7"
      },
      "outputs": [
        {
          "output_type": "execute_result",
          "data": {
            "text/plain": [
              "['fryer',\n",
              " 'scrambl',\n",
              " 'egg',\n",
              " 'cook',\n",
              " 'spray',\n",
              " 'larg',\n",
              " 'egg',\n",
              " 'beat',\n",
              " 'salt',\n",
              " 'fresh',\n",
              " 'grind',\n",
              " 'black',\n",
              " 'pepper',\n",
              " 'tast',\n",
              " 'nlight',\n",
              " 'spray',\n",
              " 'ramekin',\n",
              " 'dish',\n",
              " 'nonstick',\n",
              " 'cook',\n",
              " 'spray',\n",
              " 'pour',\n",
              " 'beat',\n",
              " 'eggsn',\n",
              " 'nset',\n",
              " 'fryer',\n",
              " 'degre',\n",
              " 'degre',\n",
              " 'place',\n",
              " 'ramekin',\n",
              " 'fryer',\n",
              " 'basketn',\n",
              " 'nair',\n",
              " 'minut',\n",
              " 'stir',\n",
              " 'mixtur',\n",
              " 'cook',\n",
              " 'minut',\n",
              " 'fluff',\n",
              " 'fork',\n",
              " 'season',\n",
              " 'tast',\n",
              " 'salt',\n",
              " 'pepper',\n",
              " 'grab']"
            ]
          },
          "metadata": {},
          "execution_count": 16
        }
      ],
      "source": [
        "processed_text[2 ]"
      ]
    },
    {
      "cell_type": "code",
      "execution_count": 17,
      "metadata": {
        "id": "2bcfOi5N1nMv"
      },
      "outputs": [],
      "source": [
        "dictionary = gensim.corpora.Dictionary(processed_text)\n",
        "corpus = [dictionary.doc2bow(text) for text in processed_text]"
      ]
    },
    {
      "cell_type": "code",
      "execution_count": 18,
      "metadata": {
        "id": "G9jmt3ls2uYo"
      },
      "outputs": [],
      "source": [
        "# Apply LDA algorithm\n",
        "lda_model = gensim.models.LdaModel(corpus, \n",
        "                                   num_topics = 10, \n",
        "                                   id2word = dictionary,                                    \n",
        "                                   passes = 10)\n",
        "term_topic_weights = lda_model.get_topics()"
      ]
    },
    {
      "cell_type": "code",
      "execution_count": 19,
      "metadata": {
        "id": "La_XTQuo17Iz"
      },
      "outputs": [],
      "source": [
        "# Create function for recommendation\n",
        "def get_recommendations(ingredients, processed_text, dictionary, lda_model):\n",
        "    ingredients_bow = dictionary.doc2bow(preprocess(ingredients))\n",
        "    lda_topics = lda_model.get_document_topics(ingredients_bow)\n",
        "    lda_topics = sorted(lda_topics, key=lambda x: x[1], reverse=True)\n",
        "    top_topic = lda_topics[0][0]\n",
        "    \n",
        "    recommendations = []\n",
        "    for index, row in enumerate(processed_text):\n",
        "        topic_probs = lda_model.get_document_topics(dictionary.doc2bow(row))\n",
        "        for topic in topic_probs:\n",
        "            if topic[0] == top_topic and topic[1] > 0.5:\n",
        "                recommendations.append(index)\n",
        "    \n",
        "    return recommendations"
      ]
    },
    {
      "cell_type": "code",
      "execution_count": 20,
      "metadata": {
        "id": "Y4cx7Gmj3wl-"
      },
      "outputs": [],
      "source": [
        "# Include the ingredient(s) input\n",
        "ingredients = \"pasta, potato\"\n",
        "recommendations = get_recommendations(ingredients, processed_text, dictionary, lda_model)"
      ]
    },
    {
      "cell_type": "code",
      "execution_count": 21,
      "metadata": {
        "id": "x6ngGz_D5bAz"
      },
      "outputs": [],
      "source": [
        "recipe_names = [recipes['recipe_name'][index] for index in recommendations]"
      ]
    },
    {
      "cell_type": "code",
      "execution_count": 22,
      "metadata": {
        "colab": {
          "base_uri": "https://localhost:8080/"
        },
        "id": "Se2-AbXY5sQc",
        "outputId": "866ae12b-95a0-4680-9243-3190842acefb"
      },
      "outputs": [
        {
          "output_type": "execute_result",
          "data": {
            "text/plain": [
              "['individual green bean casseroles',\n",
              " 'mushroom stroganoff with creamy miso pasta',\n",
              " 'curry mashed potatoes',\n",
              " 'ham potato and cabbage stew',\n",
              " 'easy caponata']"
            ]
          },
          "metadata": {},
          "execution_count": 22
        }
      ],
      "source": [
        "# List of the titles for recommended recipes\n",
        "recipe_names[:5]"
      ]
    },
    {
      "cell_type": "code",
      "execution_count": 23,
      "metadata": {
        "colab": {
          "base_uri": "https://localhost:8080/"
        },
        "id": "X6aiGPrBJY78",
        "outputId": "78b85fc0-0dfd-4c02-aa4d-10e46bdf264a"
      },
      "outputs": [
        {
          "output_type": "stream",
          "name": "stderr",
          "text": [
            "[nltk_data] Downloading package punkt to\n",
            "[nltk_data]     C:\\Users\\60197\\AppData\\Roaming\\nltk_data...\n",
            "[nltk_data]   Package punkt is already up-to-date!\n"
          ]
        },
        {
          "output_type": "execute_result",
          "data": {
            "text/plain": [
              "True"
            ]
          },
          "metadata": {},
          "execution_count": 23
        }
      ],
      "source": [
        "import nltk\n",
        "nltk.download('punkt')"
      ]
    },
    {
      "cell_type": "code",
      "execution_count": 24,
      "metadata": {
        "id": "gYlFdzFYJTSu"
      },
      "outputs": [],
      "source": [
        "# Tokenize the input ingredients text\n",
        "input_ingredients_tokens = word_tokenize(ingredients)\n",
        "\n",
        "# Clean the input ingredients text\n",
        "cleaned_input_ingredients = [word for word in input_ingredients_tokens if word.isalnum()]"
      ]
    },
    {
      "cell_type": "code",
      "execution_count": 25,
      "metadata": {
        "id": "ReylYxEuIyYX"
      },
      "outputs": [],
      "source": [
        "# Create the input_bow variable\n",
        "input_bow = dictionary.doc2bow(cleaned_input_ingredients)"
      ]
    },
    {
      "cell_type": "code",
      "execution_count": 26,
      "metadata": {
        "id": "ydD726NSJ3JI"
      },
      "outputs": [],
      "source": [
        "from gensim import matutils\n",
        "\n",
        "# Get the topic distribution of the input ingredients\n",
        "input_topics = lda_model.get_document_topics(input_bow)\n",
        "\n",
        "# Create empty list to store the similarity scores\n",
        "similarity_scores = []\n",
        "\n",
        "# For each document in the corpus\n",
        "for doc in corpus:\n",
        "    # Get the topic distribution of the document\n",
        "    doc_topics = lda_model.get_document_topics(doc)\n",
        "    # Calculate the similarity score between the ingredients input and the document topics\n",
        "    similarity_scores.append(matutils.cossim(input_topics, doc_topics))"
      ]
    },
    {
      "cell_type": "code",
      "execution_count": 27,
      "metadata": {
        "id": "OXQMVjfjKfPU"
      },
      "outputs": [],
      "source": [
        "num_recommendations = 5"
      ]
    },
    {
      "cell_type": "code",
      "execution_count": 28,
      "metadata": {
        "colab": {
          "base_uri": "https://localhost:8080/"
        },
        "id": "G1zpoHwwHIrA",
        "outputId": "9d57dbd9-12bd-4033-9654-f9c1a92f913c"
      },
      "outputs": [
        {
          "output_type": "stream",
          "name": "stdout",
          "text": [
            "       Unnamed: 0                   recipe_name  \\\n",
            "38553       32449  double butternut squash soup   \n",
            "\n",
            "                                             ingredients  \\\n",
            "38553  unsalted butteralmondsvegetable broth dividedb...   \n",
            "\n",
            "                                      cooking_directions  \\\n",
            "38553  {'directions': u'prep\\n20 m\\ncook\\n25 m\\nready...   \n",
            "\n",
            "                                              nutritions  \n",
            "38553  {u'niacin': {u'hascompletedata': false, u'name...  \n",
            "       Unnamed: 0                 recipe_name  \\\n",
            "11356       14443  sour cream mashed potatoes   \n",
            "\n",
            "                                             ingredients  \\\n",
            "11356  ['3 pounds yukon gold potatoes, peeled and cut...   \n",
            "\n",
            "                                      cooking_directions  \\\n",
            "11356  ['\\nplace potatoes and 1 1/2 tablespoons of th...   \n",
            "\n",
            "                                              nutritions  \n",
            "11356  [{'calories': '529'}, {'fat': '37g '}, {'carbs...  \n",
            "       Unnamed: 0                recipe_name  \\\n",
            "38681       32605  zucchini soup with farina   \n",
            "\n",
            "                                             ingredients  \\\n",
            "38681  butterchopped onionchopped green onionchicken ...   \n",
            "\n",
            "                                      cooking_directions  \\\n",
            "38681  {'directions': u'prep\\n15 m\\ncook\\n20 m\\nready...   \n",
            "\n",
            "                                              nutritions  \n",
            "38681  {u'niacin': {u'hascompletedata': false, u'name...  \n",
            "      Unnamed: 0               recipe_name  \\\n",
            "8676       10791  chicken almost carbonara   \n",
            "\n",
            "                                            ingredients  \\\n",
            "8676  ['4 slices bacon', '1 (16 ounce) package penne...   \n",
            "\n",
            "                                     cooking_directions  \\\n",
            "8676  ['\\nplace bacon in a large skillet and cook ov...   \n",
            "\n",
            "                                             nutritions  \n",
            "8676  [{'calories': '478'}, {'fat': '16g '}, {'carbs...  \n",
            "       Unnamed: 0         recipe_name  \\\n",
            "43536       38440  vegan african stew   \n",
            "\n",
            "                                             ingredients  \\\n",
            "43536  olive oilchopped yamslarge onionschopped cabba...   \n",
            "\n",
            "                                      cooking_directions  \\\n",
            "43536  {'directions': u'prep\\n15 m\\ncook\\n1 h 40 m\\nr...   \n",
            "\n",
            "                                              nutritions  \n",
            "43536  {u'niacin': {u'hascompletedata': false, u'name...  \n"
          ]
        }
      ],
      "source": [
        "# Get the indexes of the most similar recipes\n",
        "most_similar_indexes = sorted(range(len(similarity_scores)), key=lambda i: similarity_scores[i])[-num_recommendations:]\n",
        "\n",
        "# Create empty list to store the recommended recipe names\n",
        "recommended_recipe_names = []\n",
        "\n",
        "# For each index in the most similar indexes\n",
        "for index in most_similar_indexes:\n",
        "# Append the recipe name to the list of recommended recipe names\n",
        "    recommended_recipe_names.append(recipes.iloc[index][\"recipe_name\"])\n",
        "\n",
        "# Create empty list to store the recommended recipes\n",
        "recommended_recipes = []\n",
        "\n",
        "# For each recommended recipe name\n",
        "for recipe_name in recommended_recipe_names:\n",
        "# Find the recipe in the original dataframe\n",
        "    recipe = recipes[recipes[\"recipe_name\"] == recipe_name]\n",
        "# Append the recipe to the list of recommended recipes\n",
        "    recommended_recipes.append(recipe)\n",
        "\n",
        "# Print the details of recommended recipes\n",
        "for recipe in recommended_recipes:\n",
        "    print(recipe)"
      ]
    },
    {
      "cell_type": "code",
      "execution_count": 29,
      "metadata": {
        "id": "UZFVBy8FMaAU"
      },
      "outputs": [],
      "source": [
        "recommended_recipes_data = recipes[recipes.index.isin(recommended_recipes)]"
      ]
    },
    {
      "cell_type": "code",
      "source": [
        "# Print the details of recommended recipes\n",
        "for recipe in recommended_recipes:\n",
        "    print(recipe.to_string())\n",
        "for index, recipe in recommended_recipes_data.iterrows():\n",
        "    print(recipe['recipe_name'])\n",
        "    print(recipe['ingredients'])\n",
        "    print(recipe['cooking_directions'])\n",
        "    print(recipe['nutritions'])"
      ],
      "metadata": {
        "colab": {
          "base_uri": "https://localhost:8080/"
        },
        "id": "gTx2P4z_k8Of",
        "outputId": "e62d8bef-640a-4c53-f696-c35df6bfbdda"
      },
      "execution_count": 30,
      "outputs": [
        {
          "output_type": "stream",
          "name": "stdout",
          "text": [
            "       Unnamed: 0                   recipe_name                                                                                                                                                   ingredients                                                                                                                                                                                                                                                                                                                                                                                                                                                                                                                                                                                                                                                                                                                                                                                                                                                                                        cooking_directions                                                                                                                                                                                                                                                                                                                                                                                                                                                                                                                                                                                                                                                                                                                                                                                                                                                                                                                                                                                                                                                                                                                                                                                                                                                                                                                                                                                                                                                                                                                                                                                                                                                                                                                                                                                                                                                                                                                                                                                                                                                                                                                                                                                                                                                                                                                                                                                                                                                                                                                                                                                                                                                                                                                                                                                                                                                                                                                                                                                                                                                                                                                                                                                                                      nutritions\n",
            "38553       32449  double butternut squash soup  unsalted butteralmondsvegetable broth dividedbutternut squashcarrotsoniongarlicwater as neededworcestershire sauceground cinnamonchili powderbrown sugarsalt  {'directions': u'prep\\n20 m\\ncook\\n25 m\\nready in\\n45 m\\nmelt the butter in a large pot over medium heat. cook almonds in the melted butter until light brown, about 5 minutes. pour 1 cup vegetable broth into the pot; bring to a simmer and cook until warmed, 1 to 2 minutes.\\npour remaining broth into the pot; add butternut squash, carrots, onion, and garlic. pour enough water into the pot to assure the vegetables are completely submerged; bring to a simmer and cook until the carrots are completely soft and the volume of the liquid has reduced by about 1/3, 15 to 20 minutes.\\npour broth mixture into a blender no more than half full. cover and hold lid down; pulse a few times before leaving on to blend. puree in batches until smooth.\\npour pureed soup into a separate vessel. stir worcestershire sauce, cinnamon, chili powder, brown sugar, and salt into the soup.'}  {u'niacin': {u'hascompletedata': false, u'name': u'niacin equivalents', u'amount': 2.120194, u'percentdailyvalue': u'16', u'displayvalue': u'2', u'unit': u'mg'}, u'saturatedfat': {u'hascompletedata': true, u'name': u'saturated fat', u'amount': 2.965052, u'percentdailyvalue': u'15', u'displayvalue': u'3', u'unit': u'g'}, u'sugars': {u'hascompletedata': false, u'name': u'sugars', u'amount': 3.864877, u'percentdailyvalue': u'0', u'displayvalue': u'3.9', u'unit': u'g'}, u'sodium': {u'hascompletedata': true, u'name': u'sodium', u'amount': 354.3368, u'percentdailyvalue': u'14', u'displayvalue': u'354', u'unit': u'mg'}, u'potassium': {u'hascompletedata': false, u'name': u'potassium', u'amount': 412.9441, u'percentdailyvalue': u'12', u'displayvalue': u'413', u'unit': u'mg'}, u'vitaminb6': {u'hascompletedata': false, u'name': u'vitamin b6', u'amount': 0.2282409, u'percentdailyvalue': u'14', u'displayvalue': u'< 1', u'unit': u'mg'}, u'calories': {u'hascompletedata': true, u'name': u'calories', u'amount': 174.681, u'percentdailyvalue': u'9', u'displayvalue': u'175', u'unit': u'kcal'}, u'thiamin': {u'hascompletedata': false, u'name': u'thiamin', u'amount': 0.1404876, u'percentdailyvalue': u'14', u'displayvalue': u'< 1', u'unit': u'mg'}, u'caloriesfromfat': {u'hascompletedata': true, u'name': u'calories from fat', u'amount': 63.23321, u'percentdailyvalue': u'-', u'displayvalue': u'63', u'unit': u'kcal'}, u'folate': {u'hascompletedata': false, u'name': u'folate', u'amount': 41.40728, u'percentdailyvalue': u'23', u'displayvalue': u'41', u'unit': u'mcg'}, u'calcium': {u'hascompletedata': true, u'name': u'calcium', u'amount': 77.88435, u'percentdailyvalue': u'10', u'displayvalue': u'78', u'unit': u'mg'}, u'fiber': {u'hascompletedata': true, u'name': u'dietary fiber', u'amount': 7.544343, u'percentdailyvalue': u'30', u'displayvalue': u'7.5', u'unit': u'g'}, u'fat': {u'hascompletedata': true, u'name': u'fat', u'amount': 7.025912, u'percentdailyvalue': u'11', u'displayvalue': u'7', u'unit': u'g'}, u'iron': {u'hascompletedata': true, u'name': u'iron', u'amount': 1.726115, u'percentdailyvalue': u'17', u'displayvalue': u'2', u'unit': u'mg'}, u'vitamina': {u'hascompletedata': true, u'name': u'vitamin a - iu', u'amount': 10010.57, u'percentdailyvalue': u'200', u'displayvalue': u'10011', u'unit': u'iu'}, u'protein': {u'hascompletedata': true, u'name': u'protein', u'amount': 4.346441, u'percentdailyvalue': u'9', u'displayvalue': u'4.3', u'unit': u'g'}, u'cholesterol': {u'hascompletedata': true, u'name': u'cholesterol', u'amount': 11.44875, u'percentdailyvalue': u'4', u'displayvalue': u'11', u'unit': u'mg'}, u'carbohydrates': {u'hascompletedata': true, u'name': u'carbohydrates', u'amount': 27.84205, u'percentdailyvalue': u'9', u'displayvalue': u'27.8', u'unit': u'g'}, u'magnesium': {u'hascompletedata': false, u'name': u'magnesium', u'amount': 36.16238, u'percentdailyvalue': u'13', u'displayvalue': u'36', u'unit': u'mg'}, u'vitaminc': {u'hascompletedata': true, u'name': u'vitamin c', u'amount': 10.73947, u'percentdailyvalue': u'18', u'displayvalue': u'11', u'unit': u'mg'}}\\n\n",
            "       Unnamed: 0                 recipe_name                                                                                                                                                                                                                                                                                                                                                   ingredients                                                                                                                                                                                                                                                                                                                                                                                                                                                                                                                                                                                                                                                                                                                                                                                                                                                                                                                                                                                           cooking_directions                                                                     nutritions\n",
            "11356       14443  sour cream mashed potatoes  ['3 pounds yukon gold potatoes, peeled and cut into 2-inch chunks', '1  tablespoons kosher salt', '  salted butter, cubed', '4 large cloves garlic, crushed', '1  whole milk, warmed', '1  sour cream', '6 tablespoons unsalted butter, cubed', '2 teaspoons kosher salt', ' teaspoon freshly ground black pepper', '2 tablespoons thinly sliced scallions']  ['\\nplace potatoes and 1 1/2 tablespoons of the salt in a large stock pot. add enough cold water to cover potatoes by 2 inches. bring to a boil over high heat. reduce heat to medium-high and boil until potatoes can be easily pierced with a fork, about 15 minutes.\\n', '\\nmeanwhile, place salted butter and garlic in a small saucepan over low heat. cook, stirring occasionally until garlic is fragrant and white milk solids have separated from butter, 2 to 3 minutes. remove from heat and cover to keep warm.\\n', '\\nremove potatoes from heat and drain in a colander. return potatoes to the pot; add milk, sour cream, unsalted butter, 2 teaspoons salt, and pepper. mash using a potato masher until smooth. (avoid over-mashing or the starches will form a glue-like texture.) transfer to a serving bowl.\\n', '\\npour garlic butter through a fine mesh strainer into a small bowl. discard milk solids and garlic. pour butter over mashed potatoes and sprinkle with scallions.\\n']  [{'calories': '529'}, {'fat': '37g '}, {'carbs': '46g '}, {'protein': '8g '}]\n",
            "       Unnamed: 0                recipe_name                                                                                                                                                                                                    ingredients                                                                                                                                                                                                                                                                                                                                                                                                                                                                                                                                                                                        cooking_directions                                                                                                                                                                                                                                                                                                                                                                                                                                                                                                                                                                                                                                                                                                                                                                                                                                                                                                                                                                                                                                                                                                                                                                                                                                                                                                                                                                                                                                                                                                                                                                                                                                                                                                                                                                                                                                                                                                                                                                                                                                                                                                                                                                                                                                                                                                                                                                                                                                                                                                                                                                                                                                                                                                                                                                                                                                                                                                                                                                                                                                                                                                                                                                                                                        nutritions\n",
            "38681       32605  zucchini soup with farina  butterchopped onionchopped green onionchicken brothzucchini cut into 1-inch piecesred wine vinegardried dill weeddry farina cereal (such as cream of wheat®)salt and ground black pepper to tastecream cheese  {'directions': u'prep\\n15 m\\ncook\\n20 m\\nready in\\n35 m\\nmelt butter in a saucepan over medium heat. cook and stir onion and green onion in hot butter until softened, about 5 minutes. add chicken broth, zucchini, vinegar, and dill to the saucepan; bring to a boil. gradually pour farina into the broth mixture while stirring. reduce heat to low, loosely cover saucepan, and cook broth mixture at a simmer until the zucchini is tender, about 15 minutes more.\\nblend soup with an immersion blender until smooth. add cream cheese and blend again until the cheese is fully incorporated.'}  {u'niacin': {u'hascompletedata': false, u'name': u'niacin equivalents', u'amount': 1.890763, u'percentdailyvalue': u'15', u'displayvalue': u'2', u'unit': u'mg'}, u'sugars': {u'hascompletedata': false, u'name': u'sugars', u'amount': 5.11084, u'percentdailyvalue': u'0', u'displayvalue': u'5.1', u'unit': u'g'}, u'protein': {u'hascompletedata': true, u'name': u'protein', u'amount': 7.2237, u'percentdailyvalue': u'14', u'displayvalue': u'7.2', u'unit': u'g'}, u'sodium': {u'hascompletedata': true, u'name': u'sodium', u'amount': 1701.134, u'percentdailyvalue': u'68', u'displayvalue': u'1701', u'unit': u'mg'}, u'carbohydrates': {u'hascompletedata': true, u'name': u'carbohydrates', u'amount': 18.4753, u'percentdailyvalue': u'6', u'displayvalue': u'18.5', u'unit': u'g'}, u'cholesterol': {u'hascompletedata': true, u'name': u'cholesterol', u'amount': 61.4725, u'percentdailyvalue': u'20', u'displayvalue': u'61', u'unit': u'mg'}, u'calories': {u'hascompletedata': true, u'name': u'calories', u'amount': 273.5226, u'percentdailyvalue': u'14', u'displayvalue': u'274', u'unit': u'kcal'}, u'thiamin': {u'hascompletedata': false, u'name': u'thiamin', u'amount': 0.1397925, u'percentdailyvalue': u'14', u'displayvalue': u'< 1', u'unit': u'mg'}, u'fat': {u'hascompletedata': true, u'name': u'fat', u'amount': 19.63321, u'percentdailyvalue': u'30', u'displayvalue': u'19.6', u'unit': u'g'}, u'folate': {u'hascompletedata': false, u'name': u'folate', u'amount': 61.9045, u'percentdailyvalue': u'34', u'displayvalue': u'62', u'unit': u'mcg'}, u'calcium': {u'hascompletedata': false, u'name': u'calcium', u'amount': 63.5535, u'percentdailyvalue': u'8', u'displayvalue': u'64', u'unit': u'mg'}, u'fiber': {u'hascompletedata': true, u'name': u'dietary fiber', u'amount': 2.44825, u'percentdailyvalue': u'10', u'displayvalue': u'2.4', u'unit': u'g'}, u'magnesium': {u'hascompletedata': false, u'name': u'magnesium', u'amount': 35.6605, u'percentdailyvalue': u'13', u'displayvalue': u'36', u'unit': u'mg'}, u'iron': {u'hascompletedata': false, u'name': u'iron', u'amount': 1.33828, u'percentdailyvalue': u'13', u'displayvalue': u'1', u'unit': u'mg'}, u'vitamina': {u'hascompletedata': false, u'name': u'vitamin a - iu', u'amount': 1064.026, u'percentdailyvalue': u'21', u'displayvalue': u'1064', u'unit': u'iu'}, u'caloriesfromfat': {u'hascompletedata': true, u'name': u'calories from fat', u'amount': 176.6989, u'percentdailyvalue': u'-', u'displayvalue': u'177', u'unit': u'kcal'}, u'vitaminb6': {u'hascompletedata': false, u'name': u'vitamin b6', u'amount': 0.4112095, u'percentdailyvalue': u'26', u'displayvalue': u'< 1', u'unit': u'mg'}, u'potassium': {u'hascompletedata': false, u'name': u'potassium', u'amount': 538.7353, u'percentdailyvalue': u'15', u'displayvalue': u'539', u'unit': u'mg'}, u'saturatedfat': {u'hascompletedata': true, u'name': u'saturated fat', u'amount': 11.75466, u'percentdailyvalue': u'59', u'displayvalue': u'11.8', u'unit': u'g'}, u'vitaminc': {u'hascompletedata': false, u'name': u'vitamin c', u'amount': 30.9825, u'percentdailyvalue': u'52', u'displayvalue': u'31', u'unit': u'mg'}}\\n\n",
            "      Unnamed: 0               recipe_name                                                                                                                                                                                                                                                                                                                                                                                                                                                                                                                                                      ingredients                                                                                                                                                                                                                                                                                                                                                                                                                                                                                                                                                                                                                                                                                                                                                                                                                                                                                                                                                                                                                                                                                                                                                                                                                                                                                                                                                                                                                                                                                                                                                                                                                  cooking_directions                                                                      nutritions\n",
            "8676       10791  chicken almost carbonara  ['4 slices bacon', '1 (16 ounce) package penne pasta', '2 tablespoons extra-virgin olive oil', '1 tablespoon unsalted butter', '1  onion, vertically sliced', '1 (8 ounce) package sliced fresh mushrooms', '2 tablespoons minced fresh garlic', '2 teaspoons dried italian seasoning', '  salt and ground black pepper to taste', '1  white wine', '3 s chicken stock, divided', '2 s chopped, cooked chicken', '1  s frozen petite peas', '5 tablespoons all-purpose flour', '1  grated parmesan cheese, or more to taste', '  minced fresh italian parsley']  ['\\nplace bacon in a large skillet and cook over medium-high heat, turning occasionally, until evenly browned, about 10 minutes. drain bacon slices on paper towels and crumble when cool enough to handle.\\n', '\\nbring a large pot of lightly salted water to a boil. add penne and cook, stirring occasionally, until tender yet firm to the bite, about 11 minutes. drain and transfer to a large bowl.\\n', '\\nat the same time, heat olive oil and butter in a 12-inch skillet over medium heat until butter is melted and oil is hot. add onion and cook, stirring often, until tender, 3 to 5 minutes. add mushrooms and cook, stirring often, until soft, 3 to 5 minutes. add garlic; cook and stir until fragrant, about 1 minute. stir in italian seasoning, salt, and pepper and evenly distribute the contents in the skillet.\\n', '\\nstir in wine and bring to a boil, about 3 minutes. pour in 2 cups chicken stock, add cooked chicken and peas, and bring to a boil.\\n', '\\nwhile mixture is coming to a boil, place flour in a pint jar with a lid. slowly add remaining chicken stock to the jar, stirring briskly to break up any lumps. place the lid on the jar and shake until well blended. slowly pour flour-stock mixture into the boiling mixture and stir to prevent lumps. return to a boil and cook, stirring occasionally, until thickened, about 5 minutes.\\n', '\\nremove from the heat and stir in 1 cup parmesan cheese until melted. pour the hot sauce onto the pasta, add parsley and crumbled bacon, and stir to combine. serve in individual bowls with additional parmesan, if desired.\\n']  [{'calories': '478'}, {'fat': '16g '}, {'carbs': '54g '}, {'protein': '25g '}]\n",
            "       Unnamed: 0         recipe_name                                                                                                                                                                     ingredients                                                                                                                                                                                                                                                                                                                                                                                                                                                                                                                                                                                          cooking_directions                                                                                                                                                                                                                                                                                                                                                                                                                                                                                                                                                                                                                                                                                                                                                                                                                                                                                                                                                                                                                                                                                                                                                                                                                                                                                                                                                                                                                                                                                                                                                                                                                                                                                                                                                                                                                                                                                                                                                                                                                                                                                                                                                                                                                                                                                                                                                                                                                                                                                                                                                                                                                                                                                                                                                                                                                                                                                                                                                                                                                                                                                                                                                                                                                                    nutritions\n",
            "43536       38440  vegan african stew  olive oilchopped yamslarge onionschopped cabbagetomatoes choppedflaked coconutgarlictomato juiceapple juiceground gingercayenne peppersaltlarge green bell pepperpeanut butter  {'directions': u'prep\\n15 m\\ncook\\n1 h 40 m\\nready in\\n1 h 55 m\\nheat olive oil in a dutch oven over medium-high heat. cook and stir yams, onions, cabbage, tomatoes, coconut, and garlic in the hot oil until the vegetables are slightly browned, 7 to 10 minutes.\\npour tomato juice and apple juice into the dutch oven; season with ginger, cayenne pepper, and salt. reduce heat to medium-low and cook at a simmer for 1 hour.\\nstir bell pepper and peanut butter into the mixture. cook, stirring regularly, until the peanut butter is melted completely into the soup, about 30 minutes more.'}  {u'niacin': {u'hascompletedata': false, u'name': u'niacin equivalents', u'amount': 6.202846, u'percentdailyvalue': u'48', u'displayvalue': u'6', u'unit': u'mg'}, u'sugars': {u'hascompletedata': false, u'name': u'sugars', u'amount': 16.67457, u'percentdailyvalue': u'0', u'displayvalue': u'16.7', u'unit': u'g'}, u'sodium': {u'hascompletedata': false, u'name': u'sodium', u'amount': 446.7689, u'percentdailyvalue': u'18', u'displayvalue': u'447', u'unit': u'mg'}, u'carbohydrates': {u'hascompletedata': false, u'name': u'carbohydrates', u'amount': 46.82448, u'percentdailyvalue': u'15', u'displayvalue': u'46.8', u'unit': u'g'}, u'vitaminb6': {u'hascompletedata': false, u'name': u'vitamin b6', u'amount': 0.7217066, u'percentdailyvalue': u'45', u'displayvalue': u'< 1', u'unit': u'mg'}, u'calories': {u'hascompletedata': false, u'name': u'calories', u'amount': 378.7444, u'percentdailyvalue': u'19', u'displayvalue': u'379', u'unit': u'kcal'}, u'thiamin': {u'hascompletedata': false, u'name': u'thiamin', u'amount': 0.2575108, u'percentdailyvalue': u'26', u'displayvalue': u'< 1', u'unit': u'mg'}, u'fat': {u'hascompletedata': false, u'name': u'fat', u'amount': 19.61299, u'percentdailyvalue': u'30', u'displayvalue': u'19.6', u'unit': u'g'}, u'folate': {u'hascompletedata': false, u'name': u'folate', u'amount': 90.61902, u'percentdailyvalue': u'50', u'displayvalue': u'91', u'unit': u'mcg'}, u'caloriesfromfat': {u'hascompletedata': false, u'name': u'calories from fat', u'amount': 176.5169, u'percentdailyvalue': u'-', u'displayvalue': u'177', u'unit': u'kcal'}, u'calcium': {u'hascompletedata': false, u'name': u'calcium', u'amount': 72.81461, u'percentdailyvalue': u'9', u'displayvalue': u'73', u'unit': u'mg'}, u'fiber': {u'hascompletedata': false, u'name': u'dietary fiber', u'amount': 8.585465, u'percentdailyvalue': u'34', u'displayvalue': u'8.6', u'unit': u'g'}, u'magnesium': {u'hascompletedata': false, u'name': u'magnesium', u'amount': 86.50121, u'percentdailyvalue': u'31', u'displayvalue': u'87', u'unit': u'mg'}, u'iron': {u'hascompletedata': false, u'name': u'iron', u'amount': 2.238707, u'percentdailyvalue': u'22', u'displayvalue': u'2', u'unit': u'mg'}, u'cholesterol': {u'hascompletedata': false, u'name': u'cholesterol', u'amount': 0.0, u'percentdailyvalue': u'0', u'displayvalue': u'0', u'unit': u'mg'}, u'protein': {u'hascompletedata': false, u'name': u'protein', u'amount': 9.624011, u'percentdailyvalue': u'19', u'displayvalue': u'9.6', u'unit': u'g'}, u'vitamina': {u'hascompletedata': false, u'name': u'vitamin a - iu', u'amount': 1224.6, u'percentdailyvalue': u'24', u'displayvalue': u'1225', u'unit': u'iu'}, u'potassium': {u'hascompletedata': false, u'name': u'potassium', u'amount': 1410.57, u'percentdailyvalue': u'40', u'displayvalue': u'1411', u'unit': u'mg'}, u'saturatedfat': {u'hascompletedata': false, u'name': u'saturated fat', u'amount': 6.350431, u'percentdailyvalue': u'32', u'displayvalue': u'6.4', u'unit': u'g'}, u'vitaminc': {u'hascompletedata': false, u'name': u'vitamin c', u'amount': 78.86505, u'percentdailyvalue': u'131', u'displayvalue': u'79', u'unit': u'mg'}}\\n\n"
          ]
        }
      ]
    }
  ],
  "metadata": {
    "accelerator": "GPU",
    "colab": {
      "provenance": [],
      "include_colab_link": true
    },
    "gpuClass": "standard",
    "kernelspec": {
      "display_name": "Python 3 (ipykernel)",
      "language": "python",
      "name": "python3"
    },
    "language_info": {
      "codemirror_mode": {
        "name": "ipython",
        "version": 3
      },
      "file_extension": ".py",
      "mimetype": "text/x-python",
      "name": "python",
      "nbconvert_exporter": "python",
      "pygments_lexer": "ipython3",
      "version": "3.9.7"
    }
  },
  "nbformat": 4,
  "nbformat_minor": 0
}